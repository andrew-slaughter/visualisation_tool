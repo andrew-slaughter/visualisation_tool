{
 "cells": [
  {
   "cell_type": "code",
   "execution_count": 1,
   "id": "217d9a4d",
   "metadata": {},
   "outputs": [],
   "source": [
    "import glob\n",
    "import os\n",
    "import pandas\n",
    "import sys\n",
    "import fiona\n",
    "from shapely.geometry import shape, mapping\n",
    "import geopandas\n",
    "\n",
    "files = [\"SSC_BartonBridge_SC\", \"SSC_BartonFarm_SC\", \"SSC_Church_St_SC\", \"SSC_CulverSt_SC\", \"SSC_SilverSt_SC\", \"SSC_WooleySt_SC\"]\n",
    "geometries = []\n",
    "id = 0\n",
    "for file in files:\n",
    "    with fiona.open(file + \".shp\") as src:\n",
    "        for feature in src:\n",
    "            #shape = gpd.read_file(file)\n",
    "            geom = shape(feature['geometry'])\n",
    "            geometries.append({'NAME': file, 'ID': id, 'Daily_Mean': 0, '5th%': 0,'25th%': 0,'50th%': 0,'75th%': 0,'95th%': 0,'geometry': geom})\n",
    "            id +=1\n",
    "df = pandas.DataFrame(geometries)\n",
    "df = geopandas.GeoDataFrame(df, geometry='geometry')\n",
    "df = df.set_crs(27700)\n",
    "df.to_file(\"collated_SSCs.json\" , driver=\"GeoJSON\", encoding=\"utf-8\")\n",
    "                        \n",
    "df.to_file('collated_SSCs.shp', driver='ESRI Shapefile')\n",
    "\n"
   ]
  },
  {
   "cell_type": "code",
   "execution_count": null,
   "id": "296ec9ba",
   "metadata": {},
   "outputs": [],
   "source": []
  },
  {
   "cell_type": "code",
   "execution_count": null,
   "id": "6983fa52",
   "metadata": {},
   "outputs": [],
   "source": []
  },
  {
   "cell_type": "code",
   "execution_count": null,
   "id": "8a0234d1",
   "metadata": {},
   "outputs": [],
   "source": []
  },
  {
   "cell_type": "code",
   "execution_count": null,
   "id": "d9244458",
   "metadata": {},
   "outputs": [],
   "source": []
  },
  {
   "cell_type": "code",
   "execution_count": null,
   "id": "3c8ea3ba",
   "metadata": {},
   "outputs": [],
   "source": []
  }
 ],
 "metadata": {
  "kernelspec": {
   "display_name": "Python 3 (ipykernel)",
   "language": "python",
   "name": "python3"
  },
  "language_info": {
   "codemirror_mode": {
    "name": "ipython",
    "version": 3
   },
   "file_extension": ".py",
   "mimetype": "text/x-python",
   "name": "python",
   "nbconvert_exporter": "python",
   "pygments_lexer": "ipython3",
   "version": "3.9.7"
  }
 },
 "nbformat": 4,
 "nbformat_minor": 5
}
